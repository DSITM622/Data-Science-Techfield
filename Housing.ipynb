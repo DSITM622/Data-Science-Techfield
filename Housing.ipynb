{
 "cells": [
  {
   "cell_type": "code",
   "execution_count": 1,
   "metadata": {},
   "outputs": [],
   "source": [
    "# Multiple Linear Regression Project using Housing Data features to determine what the cost of a home should be\n",
    "# given new information."
   ]
  },
  {
   "cell_type": "code",
   "execution_count": 34,
   "metadata": {},
   "outputs": [],
   "source": [
    "import numpy as np\n",
    "import matplotlib.pyplot as plt\n",
    "from mpl_toolkits.mplot3d import Axes3D\n",
    "import pandas as pd\n",
    "import os"
   ]
  },
  {
   "cell_type": "code",
   "execution_count": 35,
   "metadata": {},
   "outputs": [],
   "source": [
    "def OLS(y, y_hat):\n",
    "    return (y - y_hat).dot(y - y_hat)\n",
    "\n",
    "def R2(y, y_hat):\n",
    "    return 1 - ((y - y_hat).dot(y - y_hat)/(y - y.mean()).dot(y - y.mean()))"
   ]
  },
  {
   "cell_type": "code",
   "execution_count": 36,
   "metadata": {},
   "outputs": [
    {
     "data": {
      "text/plain": [
       "'/home/johnpaul/Housing_MLR_Project'"
      ]
     },
     "execution_count": 36,
     "metadata": {},
     "output_type": "execute_result"
    }
   ],
   "source": [
    "os.getcwd()"
   ]
  },
  {
   "cell_type": "code",
   "execution_count": 37,
   "metadata": {},
   "outputs": [
    {
     "data": {
      "text/plain": [
       "(1460, 81)"
      ]
     },
     "execution_count": 37,
     "metadata": {},
     "output_type": "execute_result"
    }
   ],
   "source": [
    "# loading the datasets\n",
    "\n",
    "#training dataset\n",
    "train = pd.read_csv('train.csv')\n",
    "\n",
    "#validating/testing dataset\n",
    "test = pd.read_csv('test.csv')\n",
    "\n",
    "train.shape"
   ]
  },
  {
   "cell_type": "code",
   "execution_count": 38,
   "metadata": {},
   "outputs": [
    {
     "data": {
      "text/html": [
       "<div>\n",
       "<style scoped>\n",
       "    .dataframe tbody tr th:only-of-type {\n",
       "        vertical-align: middle;\n",
       "    }\n",
       "\n",
       "    .dataframe tbody tr th {\n",
       "        vertical-align: top;\n",
       "    }\n",
       "\n",
       "    .dataframe thead th {\n",
       "        text-align: right;\n",
       "    }\n",
       "</style>\n",
       "<table border=\"1\" class=\"dataframe\">\n",
       "  <thead>\n",
       "    <tr style=\"text-align: right;\">\n",
       "      <th></th>\n",
       "      <th>Id</th>\n",
       "      <th>MSSubClass</th>\n",
       "      <th>MSZoning</th>\n",
       "      <th>LotFrontage</th>\n",
       "      <th>LotArea</th>\n",
       "      <th>Street</th>\n",
       "      <th>Alley</th>\n",
       "      <th>LotShape</th>\n",
       "      <th>LandContour</th>\n",
       "      <th>Utilities</th>\n",
       "      <th>...</th>\n",
       "      <th>PoolArea</th>\n",
       "      <th>PoolQC</th>\n",
       "      <th>Fence</th>\n",
       "      <th>MiscFeature</th>\n",
       "      <th>MiscVal</th>\n",
       "      <th>MoSold</th>\n",
       "      <th>YrSold</th>\n",
       "      <th>SaleType</th>\n",
       "      <th>SaleCondition</th>\n",
       "      <th>SalePrice</th>\n",
       "    </tr>\n",
       "  </thead>\n",
       "  <tbody>\n",
       "    <tr>\n",
       "      <th>0</th>\n",
       "      <td>1</td>\n",
       "      <td>60</td>\n",
       "      <td>RL</td>\n",
       "      <td>65.0</td>\n",
       "      <td>8450</td>\n",
       "      <td>Pave</td>\n",
       "      <td>NaN</td>\n",
       "      <td>Reg</td>\n",
       "      <td>Lvl</td>\n",
       "      <td>AllPub</td>\n",
       "      <td>...</td>\n",
       "      <td>0</td>\n",
       "      <td>NaN</td>\n",
       "      <td>NaN</td>\n",
       "      <td>NaN</td>\n",
       "      <td>0</td>\n",
       "      <td>2</td>\n",
       "      <td>2008</td>\n",
       "      <td>WD</td>\n",
       "      <td>Normal</td>\n",
       "      <td>208500</td>\n",
       "    </tr>\n",
       "    <tr>\n",
       "      <th>1</th>\n",
       "      <td>2</td>\n",
       "      <td>20</td>\n",
       "      <td>RL</td>\n",
       "      <td>80.0</td>\n",
       "      <td>9600</td>\n",
       "      <td>Pave</td>\n",
       "      <td>NaN</td>\n",
       "      <td>Reg</td>\n",
       "      <td>Lvl</td>\n",
       "      <td>AllPub</td>\n",
       "      <td>...</td>\n",
       "      <td>0</td>\n",
       "      <td>NaN</td>\n",
       "      <td>NaN</td>\n",
       "      <td>NaN</td>\n",
       "      <td>0</td>\n",
       "      <td>5</td>\n",
       "      <td>2007</td>\n",
       "      <td>WD</td>\n",
       "      <td>Normal</td>\n",
       "      <td>181500</td>\n",
       "    </tr>\n",
       "    <tr>\n",
       "      <th>2</th>\n",
       "      <td>3</td>\n",
       "      <td>60</td>\n",
       "      <td>RL</td>\n",
       "      <td>68.0</td>\n",
       "      <td>11250</td>\n",
       "      <td>Pave</td>\n",
       "      <td>NaN</td>\n",
       "      <td>IR1</td>\n",
       "      <td>Lvl</td>\n",
       "      <td>AllPub</td>\n",
       "      <td>...</td>\n",
       "      <td>0</td>\n",
       "      <td>NaN</td>\n",
       "      <td>NaN</td>\n",
       "      <td>NaN</td>\n",
       "      <td>0</td>\n",
       "      <td>9</td>\n",
       "      <td>2008</td>\n",
       "      <td>WD</td>\n",
       "      <td>Normal</td>\n",
       "      <td>223500</td>\n",
       "    </tr>\n",
       "    <tr>\n",
       "      <th>3</th>\n",
       "      <td>4</td>\n",
       "      <td>70</td>\n",
       "      <td>RL</td>\n",
       "      <td>60.0</td>\n",
       "      <td>9550</td>\n",
       "      <td>Pave</td>\n",
       "      <td>NaN</td>\n",
       "      <td>IR1</td>\n",
       "      <td>Lvl</td>\n",
       "      <td>AllPub</td>\n",
       "      <td>...</td>\n",
       "      <td>0</td>\n",
       "      <td>NaN</td>\n",
       "      <td>NaN</td>\n",
       "      <td>NaN</td>\n",
       "      <td>0</td>\n",
       "      <td>2</td>\n",
       "      <td>2006</td>\n",
       "      <td>WD</td>\n",
       "      <td>Abnorml</td>\n",
       "      <td>140000</td>\n",
       "    </tr>\n",
       "    <tr>\n",
       "      <th>4</th>\n",
       "      <td>5</td>\n",
       "      <td>60</td>\n",
       "      <td>RL</td>\n",
       "      <td>84.0</td>\n",
       "      <td>14260</td>\n",
       "      <td>Pave</td>\n",
       "      <td>NaN</td>\n",
       "      <td>IR1</td>\n",
       "      <td>Lvl</td>\n",
       "      <td>AllPub</td>\n",
       "      <td>...</td>\n",
       "      <td>0</td>\n",
       "      <td>NaN</td>\n",
       "      <td>NaN</td>\n",
       "      <td>NaN</td>\n",
       "      <td>0</td>\n",
       "      <td>12</td>\n",
       "      <td>2008</td>\n",
       "      <td>WD</td>\n",
       "      <td>Normal</td>\n",
       "      <td>250000</td>\n",
       "    </tr>\n",
       "  </tbody>\n",
       "</table>\n",
       "<p>5 rows × 81 columns</p>\n",
       "</div>"
      ],
      "text/plain": [
       "   Id  MSSubClass MSZoning  LotFrontage  LotArea Street Alley LotShape  \\\n",
       "0   1          60       RL         65.0     8450   Pave   NaN      Reg   \n",
       "1   2          20       RL         80.0     9600   Pave   NaN      Reg   \n",
       "2   3          60       RL         68.0    11250   Pave   NaN      IR1   \n",
       "3   4          70       RL         60.0     9550   Pave   NaN      IR1   \n",
       "4   5          60       RL         84.0    14260   Pave   NaN      IR1   \n",
       "\n",
       "  LandContour Utilities    ...     PoolArea PoolQC Fence MiscFeature MiscVal  \\\n",
       "0         Lvl    AllPub    ...            0    NaN   NaN         NaN       0   \n",
       "1         Lvl    AllPub    ...            0    NaN   NaN         NaN       0   \n",
       "2         Lvl    AllPub    ...            0    NaN   NaN         NaN       0   \n",
       "3         Lvl    AllPub    ...            0    NaN   NaN         NaN       0   \n",
       "4         Lvl    AllPub    ...            0    NaN   NaN         NaN       0   \n",
       "\n",
       "  MoSold YrSold  SaleType  SaleCondition  SalePrice  \n",
       "0      2   2008        WD         Normal     208500  \n",
       "1      5   2007        WD         Normal     181500  \n",
       "2      9   2008        WD         Normal     223500  \n",
       "3      2   2006        WD        Abnorml     140000  \n",
       "4     12   2008        WD         Normal     250000  \n",
       "\n",
       "[5 rows x 81 columns]"
      ]
     },
     "execution_count": 38,
     "metadata": {},
     "output_type": "execute_result"
    }
   ],
   "source": [
    "# Viewing the first 5 columns in the train data set. \n",
    "train.head()"
   ]
  },
  {
   "cell_type": "code",
   "execution_count": 39,
   "metadata": {},
   "outputs": [],
   "source": [
    "#train.info()\n",
    "\n"
   ]
  },
  {
   "cell_type": "code",
   "execution_count": 40,
   "metadata": {},
   "outputs": [],
   "source": [
    "#Cleaning the dataset\n",
    "\n",
    "#changing objects to categories\n",
    "train['MSSubClass'] = train['MSSubClass'].astype('object')\n",
    "columns = pd.DataFrame(train.dtypes[train.dtypes != 'int64'][train.dtypes != 'float64']).index\n",
    "\n",
    "\n",
    "for column in columns:\n",
    "    train[column] = train[column].astype('category')\n",
    "    \n",
    "train['OverallQual'] = train['OverallQual'].astype('category')\n",
    "train['OverallCond'] = train['OverallCond'].astype('category')\n",
    "train['MoSold'] = train['MoSold'].astype('category')\n",
    "train['GarageYrBlt'] = train['GarageYrBlt'].astype('category')\n",
    "train['YearBuilt'] = train['YearBuilt'].astype('category')\n",
    "train['YearRemodAdd'] = train['YearRemodAdd'].astype('category')\n",
    "\n",
    "#converting columns to numbers\n",
    "\n",
    "\n",
    "#filling nas with 0\n",
    "train['LotFrontage'] = train['LotFrontage'].fillna(0)\n",
    "train['MasVnrArea'] = train['MasVnrArea'].fillna(0)\n",
    "\n",
    "\n",
    "#train.info()"
   ]
  },
  {
   "cell_type": "code",
   "execution_count": 41,
   "metadata": {
    "scrolled": true
   },
   "outputs": [],
   "source": [
    "# Seperating Vales to use\n",
    "\n",
    "#getting x and y variable\n",
    "y = train['SalePrice']\n",
    "\n",
    "x = train.drop('SalePrice', axis = 1)"
   ]
  },
  {
   "cell_type": "code",
   "execution_count": 42,
   "metadata": {},
   "outputs": [],
   "source": [
    "#y.head(10)"
   ]
  },
  {
   "cell_type": "code",
   "execution_count": 43,
   "metadata": {},
   "outputs": [],
   "source": [
    "# generating dummy variables\n",
    "\n",
    "x = pd.get_dummies(x)\n"
   ]
  },
  {
   "cell_type": "code",
   "execution_count": 44,
   "metadata": {},
   "outputs": [
    {
     "data": {
      "text/html": [
       "<div>\n",
       "<style scoped>\n",
       "    .dataframe tbody tr th:only-of-type {\n",
       "        vertical-align: middle;\n",
       "    }\n",
       "\n",
       "    .dataframe tbody tr th {\n",
       "        vertical-align: top;\n",
       "    }\n",
       "\n",
       "    .dataframe thead th {\n",
       "        text-align: right;\n",
       "    }\n",
       "</style>\n",
       "<table border=\"1\" class=\"dataframe\">\n",
       "  <thead>\n",
       "    <tr style=\"text-align: right;\">\n",
       "      <th></th>\n",
       "      <th>Id</th>\n",
       "      <th>LotFrontage</th>\n",
       "      <th>LotArea</th>\n",
       "      <th>MasVnrArea</th>\n",
       "      <th>BsmtFinSF1</th>\n",
       "      <th>BsmtFinSF2</th>\n",
       "      <th>BsmtUnfSF</th>\n",
       "      <th>TotalBsmtSF</th>\n",
       "      <th>1stFlrSF</th>\n",
       "      <th>2ndFlrSF</th>\n",
       "      <th>...</th>\n",
       "      <th>SaleType_ConLw</th>\n",
       "      <th>SaleType_New</th>\n",
       "      <th>SaleType_Oth</th>\n",
       "      <th>SaleType_WD</th>\n",
       "      <th>SaleCondition_Abnorml</th>\n",
       "      <th>SaleCondition_AdjLand</th>\n",
       "      <th>SaleCondition_Alloca</th>\n",
       "      <th>SaleCondition_Family</th>\n",
       "      <th>SaleCondition_Normal</th>\n",
       "      <th>SaleCondition_Partial</th>\n",
       "    </tr>\n",
       "  </thead>\n",
       "  <tbody>\n",
       "    <tr>\n",
       "      <th>0</th>\n",
       "      <td>1</td>\n",
       "      <td>65.0</td>\n",
       "      <td>8450</td>\n",
       "      <td>196.0</td>\n",
       "      <td>706</td>\n",
       "      <td>0</td>\n",
       "      <td>150</td>\n",
       "      <td>856</td>\n",
       "      <td>856</td>\n",
       "      <td>854</td>\n",
       "      <td>...</td>\n",
       "      <td>0</td>\n",
       "      <td>0</td>\n",
       "      <td>0</td>\n",
       "      <td>1</td>\n",
       "      <td>0</td>\n",
       "      <td>0</td>\n",
       "      <td>0</td>\n",
       "      <td>0</td>\n",
       "      <td>1</td>\n",
       "      <td>0</td>\n",
       "    </tr>\n",
       "    <tr>\n",
       "      <th>1</th>\n",
       "      <td>2</td>\n",
       "      <td>80.0</td>\n",
       "      <td>9600</td>\n",
       "      <td>0.0</td>\n",
       "      <td>978</td>\n",
       "      <td>0</td>\n",
       "      <td>284</td>\n",
       "      <td>1262</td>\n",
       "      <td>1262</td>\n",
       "      <td>0</td>\n",
       "      <td>...</td>\n",
       "      <td>0</td>\n",
       "      <td>0</td>\n",
       "      <td>0</td>\n",
       "      <td>1</td>\n",
       "      <td>0</td>\n",
       "      <td>0</td>\n",
       "      <td>0</td>\n",
       "      <td>0</td>\n",
       "      <td>1</td>\n",
       "      <td>0</td>\n",
       "    </tr>\n",
       "  </tbody>\n",
       "</table>\n",
       "<p>2 rows × 598 columns</p>\n",
       "</div>"
      ],
      "text/plain": [
       "   Id  LotFrontage  LotArea  MasVnrArea  BsmtFinSF1  BsmtFinSF2  BsmtUnfSF  \\\n",
       "0   1         65.0     8450       196.0         706           0        150   \n",
       "1   2         80.0     9600         0.0         978           0        284   \n",
       "\n",
       "   TotalBsmtSF  1stFlrSF  2ndFlrSF          ...            SaleType_ConLw  \\\n",
       "0          856       856       854          ...                         0   \n",
       "1         1262      1262         0          ...                         0   \n",
       "\n",
       "   SaleType_New  SaleType_Oth  SaleType_WD  SaleCondition_Abnorml  \\\n",
       "0             0             0            1                      0   \n",
       "1             0             0            1                      0   \n",
       "\n",
       "   SaleCondition_AdjLand  SaleCondition_Alloca  SaleCondition_Family  \\\n",
       "0                      0                     0                     0   \n",
       "1                      0                     0                     0   \n",
       "\n",
       "   SaleCondition_Normal  SaleCondition_Partial  \n",
       "0                     1                      0  \n",
       "1                     1                      0  \n",
       "\n",
       "[2 rows x 598 columns]"
      ]
     },
     "execution_count": 44,
     "metadata": {},
     "output_type": "execute_result"
    }
   ],
   "source": [
    "x.head(2)\n"
   ]
  },
  {
   "cell_type": "code",
   "execution_count": 45,
   "metadata": {},
   "outputs": [
    {
     "data": {
      "text/html": [
       "<div>\n",
       "<style scoped>\n",
       "    .dataframe tbody tr th:only-of-type {\n",
       "        vertical-align: middle;\n",
       "    }\n",
       "\n",
       "    .dataframe tbody tr th {\n",
       "        vertical-align: top;\n",
       "    }\n",
       "\n",
       "    .dataframe thead th {\n",
       "        text-align: right;\n",
       "    }\n",
       "</style>\n",
       "<table border=\"1\" class=\"dataframe\">\n",
       "  <thead>\n",
       "    <tr style=\"text-align: right;\">\n",
       "      <th></th>\n",
       "      <th>Id</th>\n",
       "      <th>LotFrontage</th>\n",
       "      <th>LotArea</th>\n",
       "      <th>MasVnrArea</th>\n",
       "      <th>BsmtFinSF1</th>\n",
       "      <th>BsmtFinSF2</th>\n",
       "      <th>BsmtUnfSF</th>\n",
       "      <th>TotalBsmtSF</th>\n",
       "      <th>1stFlrSF</th>\n",
       "      <th>2ndFlrSF</th>\n",
       "      <th>...</th>\n",
       "      <th>SaleType_New</th>\n",
       "      <th>SaleType_Oth</th>\n",
       "      <th>SaleType_WD</th>\n",
       "      <th>SaleCondition_Abnorml</th>\n",
       "      <th>SaleCondition_AdjLand</th>\n",
       "      <th>SaleCondition_Alloca</th>\n",
       "      <th>SaleCondition_Family</th>\n",
       "      <th>SaleCondition_Normal</th>\n",
       "      <th>SaleCondition_Partial</th>\n",
       "      <th>dum</th>\n",
       "    </tr>\n",
       "  </thead>\n",
       "  <tbody>\n",
       "    <tr>\n",
       "      <th>0</th>\n",
       "      <td>1</td>\n",
       "      <td>65.0</td>\n",
       "      <td>8450</td>\n",
       "      <td>196.0</td>\n",
       "      <td>706</td>\n",
       "      <td>0</td>\n",
       "      <td>150</td>\n",
       "      <td>856</td>\n",
       "      <td>856</td>\n",
       "      <td>854</td>\n",
       "      <td>...</td>\n",
       "      <td>0</td>\n",
       "      <td>0</td>\n",
       "      <td>1</td>\n",
       "      <td>0</td>\n",
       "      <td>0</td>\n",
       "      <td>0</td>\n",
       "      <td>0</td>\n",
       "      <td>1</td>\n",
       "      <td>0</td>\n",
       "      <td>1</td>\n",
       "    </tr>\n",
       "    <tr>\n",
       "      <th>1</th>\n",
       "      <td>2</td>\n",
       "      <td>80.0</td>\n",
       "      <td>9600</td>\n",
       "      <td>0.0</td>\n",
       "      <td>978</td>\n",
       "      <td>0</td>\n",
       "      <td>284</td>\n",
       "      <td>1262</td>\n",
       "      <td>1262</td>\n",
       "      <td>0</td>\n",
       "      <td>...</td>\n",
       "      <td>0</td>\n",
       "      <td>0</td>\n",
       "      <td>1</td>\n",
       "      <td>0</td>\n",
       "      <td>0</td>\n",
       "      <td>0</td>\n",
       "      <td>0</td>\n",
       "      <td>1</td>\n",
       "      <td>0</td>\n",
       "      <td>1</td>\n",
       "    </tr>\n",
       "    <tr>\n",
       "      <th>2</th>\n",
       "      <td>3</td>\n",
       "      <td>68.0</td>\n",
       "      <td>11250</td>\n",
       "      <td>162.0</td>\n",
       "      <td>486</td>\n",
       "      <td>0</td>\n",
       "      <td>434</td>\n",
       "      <td>920</td>\n",
       "      <td>920</td>\n",
       "      <td>866</td>\n",
       "      <td>...</td>\n",
       "      <td>0</td>\n",
       "      <td>0</td>\n",
       "      <td>1</td>\n",
       "      <td>0</td>\n",
       "      <td>0</td>\n",
       "      <td>0</td>\n",
       "      <td>0</td>\n",
       "      <td>1</td>\n",
       "      <td>0</td>\n",
       "      <td>1</td>\n",
       "    </tr>\n",
       "    <tr>\n",
       "      <th>3</th>\n",
       "      <td>4</td>\n",
       "      <td>60.0</td>\n",
       "      <td>9550</td>\n",
       "      <td>0.0</td>\n",
       "      <td>216</td>\n",
       "      <td>0</td>\n",
       "      <td>540</td>\n",
       "      <td>756</td>\n",
       "      <td>961</td>\n",
       "      <td>756</td>\n",
       "      <td>...</td>\n",
       "      <td>0</td>\n",
       "      <td>0</td>\n",
       "      <td>1</td>\n",
       "      <td>1</td>\n",
       "      <td>0</td>\n",
       "      <td>0</td>\n",
       "      <td>0</td>\n",
       "      <td>0</td>\n",
       "      <td>0</td>\n",
       "      <td>1</td>\n",
       "    </tr>\n",
       "    <tr>\n",
       "      <th>4</th>\n",
       "      <td>5</td>\n",
       "      <td>84.0</td>\n",
       "      <td>14260</td>\n",
       "      <td>350.0</td>\n",
       "      <td>655</td>\n",
       "      <td>0</td>\n",
       "      <td>490</td>\n",
       "      <td>1145</td>\n",
       "      <td>1145</td>\n",
       "      <td>1053</td>\n",
       "      <td>...</td>\n",
       "      <td>0</td>\n",
       "      <td>0</td>\n",
       "      <td>1</td>\n",
       "      <td>0</td>\n",
       "      <td>0</td>\n",
       "      <td>0</td>\n",
       "      <td>0</td>\n",
       "      <td>1</td>\n",
       "      <td>0</td>\n",
       "      <td>1</td>\n",
       "    </tr>\n",
       "  </tbody>\n",
       "</table>\n",
       "<p>5 rows × 599 columns</p>\n",
       "</div>"
      ],
      "text/plain": [
       "   Id  LotFrontage  LotArea  MasVnrArea  BsmtFinSF1  BsmtFinSF2  BsmtUnfSF  \\\n",
       "0   1         65.0     8450       196.0         706           0        150   \n",
       "1   2         80.0     9600         0.0         978           0        284   \n",
       "2   3         68.0    11250       162.0         486           0        434   \n",
       "3   4         60.0     9550         0.0         216           0        540   \n",
       "4   5         84.0    14260       350.0         655           0        490   \n",
       "\n",
       "   TotalBsmtSF  1stFlrSF  2ndFlrSF ...   SaleType_New  SaleType_Oth  \\\n",
       "0          856       856       854 ...              0             0   \n",
       "1         1262      1262         0 ...              0             0   \n",
       "2          920       920       866 ...              0             0   \n",
       "3          756       961       756 ...              0             0   \n",
       "4         1145      1145      1053 ...              0             0   \n",
       "\n",
       "   SaleType_WD  SaleCondition_Abnorml  SaleCondition_AdjLand  \\\n",
       "0            1                      0                      0   \n",
       "1            1                      0                      0   \n",
       "2            1                      0                      0   \n",
       "3            1                      1                      0   \n",
       "4            1                      0                      0   \n",
       "\n",
       "   SaleCondition_Alloca  SaleCondition_Family  SaleCondition_Normal  \\\n",
       "0                     0                     0                     1   \n",
       "1                     0                     0                     1   \n",
       "2                     0                     0                     1   \n",
       "3                     0                     0                     0   \n",
       "4                     0                     0                     1   \n",
       "\n",
       "   SaleCondition_Partial  dum  \n",
       "0                      0    1  \n",
       "1                      0    1  \n",
       "2                      0    1  \n",
       "3                      0    1  \n",
       "4                      0    1  \n",
       "\n",
       "[5 rows x 599 columns]"
      ]
     },
     "execution_count": 45,
     "metadata": {},
     "output_type": "execute_result"
    }
   ],
   "source": [
    "# adding a dummy column to the dataset\n",
    "\n",
    "x['dum'] = 1\n",
    "x.head(5)"
   ]
  },
  {
   "cell_type": "code",
   "execution_count": 46,
   "metadata": {},
   "outputs": [],
   "source": [
    "#split the dataset train, validate and test\n",
    "\n",
    "x1 = x[:481] # train\n",
    "x2 = x[481:961] # validate\n",
    "x3 = x[961:] # test\n",
    "\n",
    "y1 = y[:481] # train\n",
    "y2 = y[481:961] # validate\n",
    "y3 = y[961:] #test\n",
    "\n"
   ]
  },
  {
   "cell_type": "code",
   "execution_count": 47,
   "metadata": {},
   "outputs": [
    {
     "data": {
      "text/plain": [
       "0    208500\n",
       "1    181500\n",
       "2    223500\n",
       "3    140000\n",
       "4    250000\n",
       "Name: SalePrice, dtype: int64"
      ]
     },
     "execution_count": 47,
     "metadata": {},
     "output_type": "execute_result"
    }
   ],
   "source": [
    "y1.head(5)"
   ]
  },
  {
   "cell_type": "code",
   "execution_count": null,
   "metadata": {},
   "outputs": [],
   "source": []
  },
  {
   "cell_type": "code",
   "execution_count": 48,
   "metadata": {},
   "outputs": [
    {
     "data": {
      "text/plain": [
       "[<matplotlib.lines.Line2D at 0x7f81f02e35c0>]"
      ]
     },
     "execution_count": 48,
     "metadata": {},
     "output_type": "execute_result"
    },
    {
     "data": {
      "image/png": "[encoded data removed]",
      "text/plain": [
       "<Figure size 432x288 with 1 Axes>"
      ]
     },
     "metadata": {
      "needs_background": "light"
     },
     "output_type": "display_data"
    }
   ],
   "source": [
    "# Calculating w and y_hat on training set x1\n",
    "\n",
    "ID = np.eye(len(x1.columns))\n",
    "\n",
    "l1 = np.arange(1,599)\n",
    "m1 = []\n",
    "N = len(x1.index)\n",
    "\n",
    "\n",
    "for i in l1:\n",
    "    w = np.linalg.solve(x1.T.dot(x1) + i*ID, x1.T.dot(y1))\n",
    "    y_hat=x1.dot(w)\n",
    "    J1=((y1-y_hat).T.dot(y1-y_hat))\n",
    "    m1.append(J1)\n",
    "\n",
    "\n",
    "    \n",
    "plt.plot(l1,m1)"
   ]
  },
  {
   "cell_type": "code",
   "execution_count": 49,
   "metadata": {
    "scrolled": true
   },
   "outputs": [
    {
     "data": {
      "text/plain": [
       "[<matplotlib.lines.Line2D at 0x7f81f02c0e10>]"
      ]
     },
     "execution_count": 49,
     "metadata": {},
     "output_type": "execute_result"
    },
    {
     "data": {
      "image/png": "[encoded data removed]",
      "text/plain": [
       "<Figure size 576x432 with 1 Axes>"
      ]
     },
     "metadata": {
      "needs_background": "light"
     },
     "output_type": "display_data"
    }
   ],
   "source": [
    "# Gradient Descent\n",
    "\n",
    "wgd = np.random.randn(599)\n",
    "J = [ ]\n",
    "eta = 1e-11\n",
    "epochs = 1500\n",
    "\n",
    "for t in range(epochs):\n",
    "    y_hat = x1.dot(wgd)\n",
    "    J.append(OLS(y1,y_hat))\n",
    "    wgd -= eta*x1.T.dot(y_hat - y1)\n",
    "    \n",
    "plt.figure(figsize = (8,6))\n",
    "\n",
    "plt.plot(J)\n"
   ]
  },
  {
   "cell_type": "code",
   "execution_count": 50,
   "metadata": {},
   "outputs": [
    {
     "data": {
      "text/plain": [
       "0.7524675819597719"
      ]
     },
     "execution_count": 50,
     "metadata": {},
     "output_type": "execute_result"
    }
   ],
   "source": [
    "R2(y1,y_hat)"
   ]
  },
  {
   "cell_type": "code",
   "execution_count": 19,
   "metadata": {},
   "outputs": [
    {
     "data": {
      "text/plain": [
       "0      197248.421157\n",
       "1      182435.693976\n",
       "2      204172.930480\n",
       "3      183341.418366\n",
       "4      262576.955665\n",
       "5      164760.664219\n",
       "6      251598.602812\n",
       "7      242085.000584\n",
       "8      186585.923393\n",
       "9      142372.323940\n",
       "10     149798.237888\n",
       "11     274536.506937\n",
       "12     131934.818877\n",
       "13     209524.220312\n",
       "14     175800.093767\n",
       "15     113855.955017\n",
       "16     145695.429732\n",
       "17     109139.536430\n",
       "18     161407.453698\n",
       "19     160763.021428\n",
       "20     266319.356541\n",
       "21     114467.271107\n",
       "22     235973.202199\n",
       "23     154706.150179\n",
       "24     131100.452221\n",
       "25     228593.084592\n",
       "26     121751.281438\n",
       "27     253620.892949\n",
       "28     223311.522881\n",
       "29      62473.445686\n",
       "           ...      \n",
       "451    234755.091375\n",
       "452    197246.599811\n",
       "453    171549.767991\n",
       "454    252906.484869\n",
       "455    184531.370876\n",
       "456    138821.165447\n",
       "457    238490.160374\n",
       "458    155016.872930\n",
       "459    133497.757975\n",
       "460    209509.739406\n",
       "461    129243.334786\n",
       "462    116458.303551\n",
       "463    167808.744479\n",
       "464    133675.302945\n",
       "465    176192.664766\n",
       "466    181656.221193\n",
       "467    174676.408993\n",
       "468    225625.062046\n",
       "469    189717.919541\n",
       "470    189588.794420\n",
       "471    200092.828307\n",
       "472    124624.015397\n",
       "473    298924.491954\n",
       "474    226069.805721\n",
       "475    143484.191426\n",
       "476    216214.569832\n",
       "477    335286.135234\n",
       "478    261341.663626\n",
       "479    151975.685120\n",
       "480    280284.842459\n",
       "Length: 481, dtype: float64"
      ]
     },
     "execution_count": 19,
     "metadata": {},
     "output_type": "execute_result"
    }
   ],
   "source": [
    "y_hat"
   ]
  },
  {
   "cell_type": "code",
   "execution_count": 20,
   "metadata": {},
   "outputs": [
    {
     "data": {
      "text/plain": [
       "[]"
      ]
     },
     "execution_count": 20,
     "metadata": {},
     "output_type": "execute_result"
    },
    {
     "data": {
      "image/png": "[encoded data removed]",
      "text/plain": [
       "<Figure size 864x576 with 1 Axes>"
      ]
     },
     "metadata": {
      "needs_background": "light"
     },
     "output_type": "display_data"
    }
   ],
   "source": [
    "w = wgd\n",
    "\n",
    "J = []\n",
    "eta = 1e-3\n",
    "epochs = int(1e3)\n",
    "\n",
    "for t in range(epochs):\n",
    "    y_hat = x1.dot(w)\n",
    "    J.append(OLS(y1,y_hat))\n",
    "    w -= eta*x1.T.dot(y_hat - y1)\n",
    "    \n",
    "plt.figure(figsize = (12,8))\n",
    "plt.plot()"
   ]
  },
  {
   "cell_type": "code",
   "execution_count": 21,
   "metadata": {},
   "outputs": [],
   "source": [
    "# applying my model to new dataset\n",
    "\n",
    "y_hat_val=x2.dot(wgd)\n",
    "J2=(y2-y_hat_val).T.dot(y2-y_hat_val)\n",
    "\n",
    "\n"
   ]
  },
  {
   "cell_type": "code",
   "execution_count": 22,
   "metadata": {},
   "outputs": [
    {
     "data": {
      "text/plain": [
       "nan"
      ]
     },
     "execution_count": 22,
     "metadata": {},
     "output_type": "execute_result"
    }
   ],
   "source": [
    "R2(y2,y_hat_val)"
   ]
  },
  {
   "cell_type": "code",
   "execution_count": 23,
   "metadata": {},
   "outputs": [
    {
     "data": {
      "text/plain": [
       "array([ 6.03223522e+00,  6.76236022e-02,  1.01783611e-02,  4.32013803e+01,\n",
       "        1.42653715e+01,  3.23035877e+00, -3.23723543e+00,  1.42584949e+01,\n",
       "        1.24592889e+01,  2.32562987e+01, -1.14709988e+01,  2.42445894e+01,\n",
       "        3.03059174e+03,  8.16126692e+02,  1.09396368e+04,  3.02155301e+03,\n",
       "       -5.78079982e+03, -1.73213309e+04,  7.20957124e+03,  1.02937704e+04,\n",
       "        2.38520642e+03,  2.19618987e+01,  4.51717223e+01, -4.35224558e+01,\n",
       "        6.59965249e+00, -2.70400326e+01,  7.42103649e+01, -1.54756120e+00,\n",
       "        5.13082468e-01,  4.05834138e+00,  8.91295218e+03, -1.90916668e+03,\n",
       "        2.10980007e+03,  7.17003433e+02, -4.29693342e+02,  1.87126337e+03,\n",
       "        3.91162129e+03, -2.96906960e+03,  1.10433904e+03, -3.16777786e+03,\n",
       "       -4.21890104e+02, -1.66777807e+03, -6.30564412e+03, -6.31790891e+02,\n",
       "       -1.08983137e+03, -6.32254464e+03,  5.79715763e+03,  1.54235290e+03,\n",
       "        2.78151048e+03, -3.76413902e+03,  1.48447023e+03, -1.45013288e+03,\n",
       "       -2.92319012e+03,  5.04196975e+03, -7.14388172e+03,  7.59755235e+03,\n",
       "        0.00000000e+00, -4.19333273e+02, -9.68325768e+03,  6.62727556e+03,\n",
       "       -2.96726014e+03,  6.05757961e+03,  4.20099782e+03, -4.16666046e+03,\n",
       "        1.40596229e+03,  6.27226486e+03, -3.96776230e+03, -9.10177887e+01,\n",
       "       -3.58510971e+03,  2.83108217e+03,  6.06516131e+03, -8.86190613e+03,\n",
       "        9.57767610e+02, -2.03601418e+03,  7.30152210e+02,  1.39631370e+03,\n",
       "       -5.24822771e+03, -4.16415042e+03,  4.51363702e+03, -1.88873436e+04,\n",
       "       -5.48210711e+03, -4.11554361e+03,  9.93940875e+02, -2.85451308e+03,\n",
       "       -7.03977084e+03,  3.31173360e+03, -8.75443693e+03,  1.85463583e+04,\n",
       "        1.66027993e+04, -3.18612420e+03, -9.56874437e+02, -1.54796436e+03,\n",
       "       -2.23747566e+03,  7.95880943e+03,  1.88828389e+04, -1.06161294e+04,\n",
       "        3.26666184e+03,  2.36285608e+03, -1.50197455e+02,  1.05495478e+04,\n",
       "        6.58428633e+02, -1.50349028e+04, -5.39359909e+03,  5.72918218e+03,\n",
       "        0.00000000e+00,  1.31302206e+03,  0.00000000e+00,  9.62342384e+02,\n",
       "        1.40345720e+04,  4.72834210e+03, -2.22903008e+04,  0.00000000e+00,\n",
       "        0.00000000e+00,  2.59938167e+03,  6.96783388e+03, -4.53280160e+02,\n",
       "       -4.21890104e+02, -2.27042959e+03, -3.78789667e+03, -1.84794549e+03,\n",
       "        7.17003433e+02,  7.49712810e+03, -6.36053913e+02, -5.33902686e+02,\n",
       "       -6.06032208e+03,  3.96075140e+03, -3.06232142e+03, -2.37077946e+03,\n",
       "       -1.43088032e+03, -1.42200846e+03, -1.38298813e+04, -1.32968119e+04,\n",
       "       -1.01063155e+04, -2.29319885e+03,  1.09137088e+04,  2.62320019e+04,\n",
       "        7.63850252e+03,  0.00000000e+00, -1.77632381e+03, -8.22158230e+03,\n",
       "       -1.04284458e+03, -5.04268824e+03,  4.57618405e+03,  7.72996966e+03,\n",
       "        8.39294638e+02,  2.97232794e+03,  0.00000000e+00,  0.00000000e+00,\n",
       "        2.68850151e+03,  0.00000000e+00,  0.00000000e+00, -5.69555481e+03,\n",
       "        0.00000000e+00,  4.72834210e+03, -2.42244925e+03, -4.57996789e+03,\n",
       "       -2.80601219e+03,  0.00000000e+00, -1.53690146e+03,  7.05190601e+01,\n",
       "       -4.32496713e+02,  0.00000000e+00, -2.43516691e+03,  0.00000000e+00,\n",
       "        2.48574244e+02, -6.04470197e+02, -1.65038222e+03,  0.00000000e+00,\n",
       "        2.18423315e+03,  0.00000000e+00,  2.40645211e+02,  7.55527050e+02,\n",
       "        2.62240337e+03,  6.66222043e+03, -9.81560206e+02, -1.28231143e+03,\n",
       "       -3.94586830e+03,  0.00000000e+00, -4.23547729e+01,  0.00000000e+00,\n",
       "        1.56212770e+03, -1.73758777e+03,  5.14503423e+03,  4.71091474e+03,\n",
       "       -3.47498190e+03,  1.53986487e+03,  1.01915250e+03,  1.08747334e+03,\n",
       "        0.00000000e+00, -2.55287888e+03, -8.71130172e+02,  0.00000000e+00,\n",
       "        4.37083279e+02, -1.98480353e+03,  1.63698091e+03,  4.12579611e+02,\n",
       "        1.65664148e+01, -3.56784973e+03, -3.14864490e+03, -2.56291073e+03,\n",
       "        1.13186910e+03, -2.70676951e+03,  3.10674748e+02,  2.41030660e+01,\n",
       "       -6.36385845e+03, -2.02462778e+03, -1.34787510e+03, -2.62072519e+03,\n",
       "        3.82735500e+02,  1.64029849e+03, -1.79776990e+02, -3.46324216e+03,\n",
       "       -7.94685947e+02,  2.14527547e+03, -9.21757695e+02, -3.86765455e+03,\n",
       "       -1.49071543e+03,  1.66980706e+03,  5.44827481e+03, -4.25223923e+02,\n",
       "       -8.44049051e+02,  1.67785711e+03,  8.78040477e+02, -3.31299177e+03,\n",
       "       -4.25073783e+03,  1.46723316e+03, -1.30638797e+03,  2.08677266e+03,\n",
       "        0.00000000e+00,  1.80389168e+03,  5.78955653e+03, -2.20494776e+03,\n",
       "       -1.65159266e+02,  0.00000000e+00,  2.70429660e+03, -2.01443788e+03,\n",
       "        3.40925412e+03,  2.65266365e+03, -9.07220755e+02,  1.23668701e+03,\n",
       "       -1.92899895e+02,  9.88265690e+03, -1.28770820e+03, -1.61667456e+03,\n",
       "        4.71588788e+01,  1.70419113e+03,  1.08653700e+03, -1.13597102e+03,\n",
       "       -8.84511891e+02,  1.34226832e+02,  2.19607781e+03, -2.60402324e+03,\n",
       "       -1.63802617e+03, -2.75901757e+03, -4.66257739e+03,  8.50585971e+03,\n",
       "        8.56013303e+03,  0.00000000e+00, -5.20727585e+03, -1.21453940e+03,\n",
       "       -2.56291073e+03,  1.74333206e+02,  1.25419670e+03, -6.46737332e+02,\n",
       "        4.29473018e+02, -1.18266316e+03, -2.31568189e+03, -3.64669816e+03,\n",
       "       -3.42168764e+03,  1.36385079e+03,  2.82951350e+03, -5.20790738e+03,\n",
       "       -2.67313365e+03, -3.59499733e+03,  3.21623609e+03, -3.76327120e+02,\n",
       "       -1.33702238e+02, -3.56822804e+03,  7.70562230e+02, -2.17310193e+02,\n",
       "       -4.03434054e+03,  1.42817118e+03,  2.10389830e+03, -1.67024868e+03,\n",
       "        1.47443415e+03, -3.84604521e+03,  4.67000644e+03, -9.48576102e+02,\n",
       "        2.01529940e+03, -1.91868519e+03,  2.83158435e+03, -1.38443183e+03,\n",
       "        4.98945067e+01,  3.53908496e+02,  0.00000000e+00,  5.65708348e+02,\n",
       "        3.02206876e+03, -3.30798116e+03,  3.89210205e+03, -5.63932017e+03,\n",
       "       -7.50350588e+02,  4.18832850e+03,  1.23415073e+03,  8.43729018e+03,\n",
       "       -3.81521404e+03,  3.60651115e+02,  2.22213551e+03, -2.13028435e+03,\n",
       "        5.30811580e+03, -2.00479883e+02,  2.04112602e+03, -2.60258238e+03,\n",
       "        1.57645709e+03, -3.95412601e+02,  6.47135065e+02,  5.07494196e+03,\n",
       "       -6.33214854e+03,  3.48858949e+03,  7.95607574e+03, -6.92277237e+03,\n",
       "        2.89969168e+03, -9.71239387e+01,  1.06679867e+03,  3.08774331e+03,\n",
       "        0.00000000e+00,  0.00000000e+00, -7.52394213e+03,  0.00000000e+00,\n",
       "        0.00000000e+00,  0.00000000e+00, -6.92277237e+03,  0.00000000e+00,\n",
       "        1.44810519e+04, -7.58198621e+03,  0.00000000e+00,  0.00000000e+00,\n",
       "        1.26379485e+04,  0.00000000e+00, -1.99999976e+03, -1.07624428e+03,\n",
       "        0.00000000e+00,  1.89689932e+03,  1.68938552e+02,  0.00000000e+00,\n",
       "       -8.94578197e+02,  3.02089718e+02, -4.80031096e+03,  1.38158068e+03,\n",
       "       -5.80566240e+03,  1.93478802e+03,  3.60961347e+02,  5.20360313e+03,\n",
       "        0.00000000e+00, -8.07059986e+03,  8.68119590e+02,  1.94241477e+03,\n",
       "        7.46249475e+02, -1.23692109e+03, -1.88084954e+03, -2.29388164e+03,\n",
       "        3.07815724e+03, -2.25941540e+03,  6.73958020e+03,  7.07793507e+02,\n",
       "       -2.56847977e+03, -2.12445038e+03,  5.47388192e+03,  1.01592682e+03,\n",
       "        1.50571081e+04, -2.24058617e+03, -2.32173241e+03, -1.04604522e+04,\n",
       "        6.00246146e+03, -3.57126360e+03, -3.81861393e+03,  0.00000000e+00,\n",
       "        1.42175342e+03,  3.94198290e+03, -9.65370645e+02,  2.19388676e+03,\n",
       "       -2.18436940e+03, -2.95179226e+03,  0.00000000e+00,  1.19646849e+04,\n",
       "       -3.77005280e+03, -1.43741498e+03, -5.73920277e+03, -4.53902652e+03,\n",
       "        3.17511760e+03,  0.00000000e+00,  2.38192327e+03,  1.09076732e+02,\n",
       "        1.05795401e+04, -1.70548557e+03, -7.69083721e+03, -1.56760071e+03,\n",
       "        4.81534586e+02,  3.45853868e+03, -1.96240006e+03, -1.35126356e+03,\n",
       "        1.95920542e+03, -4.04950945e+03, -6.00715867e+02,  3.30170505e+03,\n",
       "        1.62312947e+03,  3.08441550e+02,  4.34963617e+02,  0.00000000e+00,\n",
       "       -2.50099963e+03,  2.23828099e+03, -1.40027289e+02,  0.00000000e+00,\n",
       "        4.37083279e+02,  3.48343223e+03, -1.91084930e+03, -1.34145970e+03,\n",
       "        0.00000000e+00, -1.96785878e+02, -2.19082807e+03,  2.22516542e+03,\n",
       "       -6.42080704e+02, -2.47723567e+03,  0.00000000e+00,  0.00000000e+00,\n",
       "        3.15365372e+03,  7.48164657e+03, -4.11314261e+03,  2.10286933e+02,\n",
       "       -3.54445354e+03, -3.66499354e+03, -5.03359123e+03,  1.84258240e+01,\n",
       "       -2.66099705e+03, -7.27829349e+02,  3.57811869e+02,  1.17455108e+04,\n",
       "        1.77774188e+04, -5.46568211e+03, -4.47296804e+03, -3.61231851e+03,\n",
       "       -1.03131622e+04, -2.93801314e+03,  1.40955363e+03, -4.51704958e+03,\n",
       "        3.61084560e+03, -3.37526611e+03,  3.89093213e+03,  0.00000000e+00,\n",
       "       -1.53690146e+03,  7.05190601e+01, -3.31240479e+03,  4.90163032e+02,\n",
       "       -2.41225468e+03,  0.00000000e+00,  0.00000000e+00, -1.76232627e+02,\n",
       "        5.45424755e+02,  2.62240337e+03,  1.66925354e+03, -1.47083593e+03,\n",
       "        1.38574375e+03, -1.05274177e+03,  0.00000000e+00, -4.23547729e+01,\n",
       "        0.00000000e+00,  8.25587019e+02, -1.73758777e+03,  0.00000000e+00,\n",
       "        0.00000000e+00,  4.66486948e+03, -8.48848211e+02,  1.82525157e+03,\n",
       "        2.81726916e+02,  1.08747334e+03, -1.71278053e+03, -1.02346702e+03,\n",
       "       -8.71130172e+02,  0.00000000e+00,  4.37083279e+02,  3.85975932e+02,\n",
       "        1.67992178e+03,  1.95453713e+03,  1.19195362e+03,  6.85478468e+03,\n",
       "       -3.14864490e+03, -2.56291073e+03, -2.39780864e+03, -9.23211887e+02,\n",
       "       -2.25345110e+03,  1.39671528e+02, -4.77093931e+03, -1.66220406e+03,\n",
       "        2.12666156e+02, -2.18872588e+03, -2.09806683e+03,  4.31281181e+03,\n",
       "       -2.71431638e+03, -2.32385532e+03, -1.51431698e+03,  2.14527547e+03,\n",
       "       -1.23733430e+03, -3.78737133e+03, -1.49071543e+03,  4.35451514e+02,\n",
       "        2.52357174e+03,  4.57390344e+02,  1.92405002e+03,  3.52254303e+03,\n",
       "       -6.52860606e+03, -2.04030340e+03, -5.25940802e+03, -1.95641015e+02,\n",
       "        1.35369472e+03,  1.39834705e+03,  2.03557837e+03,  0.00000000e+00,\n",
       "        2.01542851e+03, -1.88905216e+03, -1.19285194e+03, -8.28324869e+01,\n",
       "        1.70783300e+03,  3.76726439e+03,  7.89037293e+02, -2.47618043e+03,\n",
       "       -9.07220755e+02,  1.76163537e+03, -7.17848253e+02,  7.13120485e+03,\n",
       "        1.03407237e+03, -2.35467457e+03,  1.89110512e+03,  1.70419113e+03,\n",
       "       -1.59842881e+02, -1.18845662e+03, -8.84511891e+02,  1.36040483e+02,\n",
       "        1.41247076e+02, -2.60402324e+03, -4.06677788e+02, -3.46174308e+03,\n",
       "       -8.83569548e+03,  1.22907268e+04,  1.11980759e+04, -3.46360100e+03,\n",
       "        3.24833437e+03,  1.96540498e+02, -5.36387234e+03, -3.27540557e+01,\n",
       "       -6.21685956e+03,  7.57480950e+03,  7.06550380e+02, -3.95074374e+03,\n",
       "       -3.27540557e+01, -6.54058253e+02, -1.97069580e+03,  3.06579658e+02,\n",
       "        4.31930973e+02, -4.00845921e+03,  1.08734595e+02,  3.93406196e+03,\n",
       "        0.00000000e+00, -2.38821172e-03,  0.00000000e+00, -1.81450908e+02,\n",
       "        3.46616275e+03, -1.72088716e+01, -2.66143790e+03,  0.00000000e+00,\n",
       "        1.56520743e+03, -1.53366091e+03,  0.00000000e+00,  1.13429159e+04,\n",
       "       -3.68436507e+03,  5.08200867e+03, -3.47235384e+03,  2.76770000e+03,\n",
       "        1.19042155e+03, -3.54253199e+03, -3.30111816e+03, -4.03751942e+03,\n",
       "       -8.86021557e+03,  7.45382952e+02,  5.80401228e+03, -4.18681736e+03,\n",
       "        4.44806004e+03, -2.17397425e+03, -3.41515442e+03,  5.89314543e+03,\n",
       "       -8.46577669e+02,  8.32533149e+03,  3.18056149e+02, -8.32773206e+03,\n",
       "       -4.30479798e+03,  2.09080211e+03,  1.64651984e+03, -7.53051163e+03,\n",
       "        5.26979021e+03,  2.86253480e+03,  3.43373508e+01])"
      ]
     },
     "execution_count": 23,
     "metadata": {},
     "output_type": "execute_result"
    }
   ],
   "source": [
    "# calculating for \n",
    "\n",
    "\n",
    "w_best = np.linalg.solve(x2.T.dot(x2) + 7*ID, x2.T.dot(y2))\n",
    "\n",
    "w_best\n"
   ]
  },
  {
   "cell_type": "code",
   "execution_count": 24,
   "metadata": {},
   "outputs": [
    {
     "data": {
      "text/plain": [
       "nan"
      ]
     },
     "execution_count": 24,
     "metadata": {},
     "output_type": "execute_result"
    }
   ],
   "source": [
    "def R2(y, y_hat):\n",
    "    return 1 - ((y - y_hat).dot(y - y_hat)/(y - y.mean()).dot(y - y.mean()))\n",
    "\n",
    "R2(y2, y_hat_val)"
   ]
  },
  {
   "cell_type": "code",
   "execution_count": 25,
   "metadata": {},
   "outputs": [],
   "source": [
    "y_hat_val=x3.dot(w)"
   ]
  },
  {
   "cell_type": "code",
   "execution_count": 26,
   "metadata": {},
   "outputs": [
    {
     "ename": "NameError",
     "evalue": "name 'y_hat_test' is not defined",
     "output_type": "error",
     "traceback": [
      "\u001b[0;31m---------------------------------------------------------------------------\u001b[0m",
      "\u001b[0;31mNameError\u001b[0m                                 Traceback (most recent call last)",
      "\u001b[0;32m<ipython-input-26-7690435d546b>\u001b[0m in \u001b[0;36m<module>\u001b[0;34m()\u001b[0m\n\u001b[0;32m----> 1\u001b[0;31m \u001b[0mlen\u001b[0m\u001b[0;34m(\u001b[0m\u001b[0my_hat_val\u001b[0m\u001b[0;34m)\u001b[0m \u001b[0;34m+\u001b[0m \u001b[0mlen\u001b[0m\u001b[0;34m(\u001b[0m\u001b[0my_hat_test\u001b[0m\u001b[0;34m)\u001b[0m\u001b[0;34m\u001b[0m\u001b[0m\n\u001b[0m",
      "\u001b[0;31mNameError\u001b[0m: name 'y_hat_test' is not defined"
     ]
    }
   ],
   "source": [
    "len(y_hat_val) + len(y_hat_test)"
   ]
  },
  {
   "cell_type": "code",
   "execution_count": null,
   "metadata": {},
   "outputs": [],
   "source": [
    "len(y2) + len(y3)"
   ]
  },
  {
   "cell_type": "code",
   "execution_count": null,
   "metadata": {
    "scrolled": false
   },
   "outputs": [],
   "source": [
    "R2(y3, y_hat_val)"
   ]
  },
  {
   "cell_type": "code",
   "execution_count": null,
   "metadata": {},
   "outputs": [],
   "source": [
    "y_hat_totals = np.hstack((y_hat, y_hat_val, y_hat_test))\n",
    "y_hat_totals"
   ]
  },
  {
   "cell_type": "code",
   "execution_count": null,
   "metadata": {},
   "outputs": [],
   "source": []
  },
  {
   "cell_type": "code",
   "execution_count": null,
   "metadata": {},
   "outputs": [],
   "source": []
  },
  {
   "cell_type": "code",
   "execution_count": null,
   "metadata": {},
   "outputs": [],
   "source": [
    "y1"
   ]
  },
  {
   "cell_type": "code",
   "execution_count": null,
   "metadata": {},
   "outputs": [],
   "source": [
    "x1.columns"
   ]
  },
  {
   "cell_type": "code",
   "execution_count": null,
   "metadata": {},
   "outputs": [],
   "source": [
    "w[0]\n",
    "plt.plot(y_hat)"
   ]
  },
  {
   "cell_type": "code",
   "execution_count": null,
   "metadata": {},
   "outputs": [],
   "source": [
    "for l in [100, 200, 300]:\n",
    "\n",
    "    ID = np.eye(len(x.columns))\n",
    "\n",
    "    w = np.linalg.solve(x2.T.dot(x2) + l*ID, x2.T.dot(y2))\n",
    "\n",
    "    y_hat=x2.dot(w)\n",
    "    \n",
    "    J=(y2-y_hat).T.dot(y2-y_hat)\n",
    "# get w\n",
    "#w = np.linalg.solve(x.T.dot(x), x.T.dot(y))\n",
    "w\n",
    "\n",
    "\n"
   ]
  },
  {
   "cell_type": "code",
   "execution_count": null,
   "metadata": {},
   "outputs": [],
   "source": [
    "# graphs\n",
    "# bar plot showing average sales price for the home in a particular neighborhood\n",
    "\n",
    "neigh = train.groupby(['Neighborhood'])['SalePrice'].mean()\n",
    "\n",
    "neigh.plot.bar(figsize =(10,7))\n"
   ]
  },
  {
   "cell_type": "code",
   "execution_count": null,
   "metadata": {},
   "outputs": [],
   "source": [
    "# stacking y_hat variables\n",
    "\n",
    "y_hattotals = [y_hat, y_hat_val, y_hat_test]\n",
    "\n",
    "\n",
    "y_hat_totals = pd.concat(y_hattotals)\n",
    "y_hat_totals\n",
    "\n",
    "#train['y_hat_totals'] = y_hat_totals.values\n",
    "y_hat_totals.shape\n"
   ]
  },
  {
   "cell_type": "code",
   "execution_count": null,
   "metadata": {},
   "outputs": [],
   "source": [
    "# graph showing neighborhood formulated prices \n",
    "\n",
    "neigh = train.groupby(['Neighborhood'])['y_hat_totals'].mean()\n",
    "\n",
    "neigh.plot.bar(figsize =(10,7))\n",
    "train\n"
   ]
  },
  {
   "cell_type": "code",
   "execution_count": null,
   "metadata": {},
   "outputs": [],
   "source": [
    "y_hat_totals\n",
    "\n"
   ]
  },
  {
   "cell_type": "code",
   "execution_count": null,
   "metadata": {},
   "outputs": [],
   "source": [
    "train['Difference'] = pd.to_datetime(train['SalePrice']) - pd.to_datetime(train['y_hat_totals'])\n",
    "\n",
    "#neigh = train.groupby(['Neighborhood'])['y_hat_totals'].mean()\n",
    "\n",
    "#neigh.plot.bar(figsize =(10,7))"
   ]
  },
  {
   "cell_type": "code",
   "execution_count": null,
   "metadata": {
    "scrolled": true
   },
   "outputs": [],
   "source": [
    "plt.hist(y)"
   ]
  },
  {
   "cell_type": "code",
   "execution_count": null,
   "metadata": {},
   "outputs": [],
   "source": [
    "OLS(y,y_hat)"
   ]
  },
  {
   "cell_type": "code",
   "execution_count": null,
   "metadata": {},
   "outputs": [],
   "source": [
    "\n",
    "style = train.groupby(['HouseStyle'])['SalePrice'].mean()\n",
    "\n",
    "style.plot.bar(figsize =(10,7))"
   ]
  },
  {
   "cell_type": "code",
   "execution_count": null,
   "metadata": {},
   "outputs": [],
   "source": []
  },
  {
   "cell_type": "code",
   "execution_count": null,
   "metadata": {},
   "outputs": [],
   "source": []
  },
  {
   "cell_type": "code",
   "execution_count": null,
   "metadata": {},
   "outputs": [],
   "source": []
  },
  {
   "cell_type": "code",
   "execution_count": null,
   "metadata": {},
   "outputs": [],
   "source": []
  },
  {
   "cell_type": "code",
   "execution_count": null,
   "metadata": {},
   "outputs": [],
   "source": []
  }
 ],
 "metadata": {
  "kernelspec": {
   "display_name": "Python 3",
   "language": "python",
   "name": "python3"
  },
  "language_info": {
   "codemirror_mode": {
    "name": "ipython",
    "version": 3
   },
   "file_extension": ".py",
   "mimetype": "text/x-python",
   "name": "python",
   "nbconvert_exporter": "python",
   "pygments_lexer": "ipython3",
   "version": "3.7.0"
  }
 },
 "nbformat": 4,
 "nbformat_minor": 2
}
